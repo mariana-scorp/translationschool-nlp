{
 "cells": [
  {
   "cell_type": "markdown",
   "metadata": {},
   "source": [
    "## Приклад опрацювання української мови"
   ]
  },
  {
   "cell_type": "code",
   "execution_count": 1,
   "metadata": {},
   "outputs": [],
   "source": [
    "# import all necessary toolkits\n",
    "\n",
    "import tokenize_uk\n",
    "import pymorphy2\n",
    "morph = pymorphy2.MorphAnalyzer(lang='uk')"
   ]
  },
  {
   "cell_type": "code",
   "execution_count": 2,
   "metadata": {},
   "outputs": [
    {
     "data": {
      "text/plain": [
       "'У тексті є 99709 слів.'"
      ]
     },
     "execution_count": 2,
     "metadata": {},
     "output_type": "execute_result"
    }
   ],
   "source": [
    "# read the text\n",
    "\n",
    "with open(\"bahrianyi.txt\", \"r\") as f:\n",
    "    text_raw = f.read()\n",
    "    text = tokenize_uk.tokenize_words(text_raw)\n",
    "\"У тексті є {} слів.\".format(len(text))"
   ]
  },
  {
   "cell_type": "code",
   "execution_count": 3,
   "metadata": {},
   "outputs": [
    {
     "name": "stdout",
     "output_type": "stream",
     "text": [
      "['Вирячивши', 'вогненні', 'очі', ',', 'дихаючи', \"полум'ям\", 'і', 'димом', ',', 'потрясаючи', 'ревом', 'пустелі', 'і', 'нетра', 'і', 'вогненним', 'хвостом', 'замітаючи', 'слід', ',', 'летів', 'дракон', '.']\n"
     ]
    }
   ],
   "source": [
    "# print tokens\n",
    "\n",
    "print(text[9:32])"
   ]
  },
  {
   "cell_type": "code",
   "execution_count": 4,
   "metadata": {},
   "outputs": [
    {
     "name": "stdout",
     "output_type": "stream",
     "text": [
      "['вирячивши', 'вогненний', 'око', ',', 'дихаючи', \"полум'я\", 'і', 'дим', ',', 'потрясаючи', 'рев', 'пустеля', 'і', 'нетра', 'і', 'вогненний', 'хвіст', 'замітаючи', 'слід', ',', 'летіти', 'дракон', '.']\n"
     ]
    }
   ],
   "source": [
    "# print lemmas\n",
    "\n",
    "print([morph.parse(word)[0].normal_form for word in text[9:32]])"
   ]
  },
  {
   "cell_type": "code",
   "execution_count": 5,
   "metadata": {},
   "outputs": [
    {
     "name": "stdout",
     "output_type": "stream",
     "text": [
      "['GRND', 'ADJF', 'NOUN', None, 'GRND', 'NOUN', 'CONJ', 'NOUN', None, 'GRND', 'NOUN', 'NOUN', 'CONJ', None, 'CONJ', 'ADJF', 'NOUN', 'GRND', 'NOUN', None, 'VERB', 'NOUN', None]\n"
     ]
    }
   ],
   "source": [
    "# print parts of speech\n",
    "\n",
    "print([morph.parse(word)[0].tag.POS for word in text[9:32]])"
   ]
  },
  {
   "cell_type": "code",
   "execution_count": 6,
   "metadata": {},
   "outputs": [],
   "source": [
    "# remember all data\n",
    "\n",
    "corpus = [(word, morph.parse(word)[0].normal_form, morph.parse(word)[0].tag.POS) for word in text]"
   ]
  },
  {
   "cell_type": "code",
   "execution_count": 7,
   "metadata": {},
   "outputs": [
    {
     "name": "stdout",
     "output_type": "stream",
     "text": [
      "('Вирячивши', 'вирячивши', 'GRND')\n",
      "('вогненні', 'вогненний', 'ADJF')\n",
      "('очі', 'око', 'NOUN')\n",
      "(',', ',', None)\n",
      "('дихаючи', 'дихаючи', 'GRND')\n",
      "(\"полум'ям\", \"полум'я\", 'NOUN')\n",
      "('і', 'і', 'CONJ')\n",
      "('димом', 'дим', 'NOUN')\n",
      "(',', ',', None)\n",
      "('потрясаючи', 'потрясаючи', 'GRND')\n",
      "('ревом', 'рев', 'NOUN')\n",
      "('пустелі', 'пустеля', 'NOUN')\n",
      "('і', 'і', 'CONJ')\n",
      "('нетра', 'нетра', None)\n",
      "('і', 'і', 'CONJ')\n",
      "('вогненним', 'вогненний', 'ADJF')\n",
      "('хвостом', 'хвіст', 'NOUN')\n",
      "('замітаючи', 'замітаючи', 'GRND')\n",
      "('слід', 'слід', 'NOUN')\n",
      "(',', ',', None)\n",
      "('летів', 'летіти', 'VERB')\n",
      "('дракон', 'дракон', 'NOUN')\n",
      "('.', '.', None)\n"
     ]
    }
   ],
   "source": [
    "for i in corpus[9:32]:\n",
    "    print(i)"
   ]
  },
  {
   "cell_type": "code",
   "execution_count": 8,
   "metadata": {},
   "outputs": [
    {
     "name": "stdout",
     "output_type": "stream",
     "text": [
      "['утрачений світ', 'другий СВІТ', 'окремий світ', 'окремий світ', 'оригінальний світ', 'казковий світ', 'екстериторіальний світ', 'цілий світ', 'нереальний світ', 'екстериторіального світу', 'видимім світі', 'забутого світу', 'окремий світ', 'цілий світ', 'цілім світі', 'пташиний світ', 'невідомі світи', 'навколишній світ', 'цілому світі', 'цілий світ', 'напівказковий світ', 'цілому світі', 'зовнішній світ', 'тваринний світ', 'смердючого світу', 'цілому світі']\n"
     ]
    }
   ],
   "source": [
    "# extract adjective-noun collocations\n",
    "\n",
    "adj_noun = []\n",
    "for i in range(1, len(corpus)):\n",
    "    word, lemma, tag = corpus[i]\n",
    "    prev_word, prev_lemma, prev_tag = corpus[i-1]\n",
    "    if lemma == \"світ\" and prev_tag == \"ADJF\":\n",
    "    #if tag == \"NOUN\" and prev_lemma == \"понурий\":\n",
    "        adj_noun.append(\"{} {}\".format(prev_word, word))\n",
    "print(adj_noun)"
   ]
  },
  {
   "cell_type": "code",
   "execution_count": 9,
   "metadata": {},
   "outputs": [
    {
     "name": "stdout",
     "output_type": "stream",
     "text": [
      "видимім світі\n",
      "другий СВІТ\n",
      "екстериторіальний світ\n",
      "екстериторіального світу\n",
      "забутого світу\n",
      "зовнішній світ\n",
      "казковий світ\n",
      "навколишній світ\n",
      "напівказковий світ\n",
      "невідомі світи\n",
      "нереальний світ\n",
      "окремий світ\n",
      "окремий світ\n",
      "окремий світ\n",
      "оригінальний світ\n",
      "пташиний світ\n",
      "смердючого світу\n",
      "тваринний світ\n",
      "утрачений світ\n",
      "цілий світ\n",
      "цілий світ\n",
      "цілий світ\n",
      "цілому світі\n",
      "цілому світі\n",
      "цілому світі\n",
      "цілім світі\n"
     ]
    }
   ],
   "source": [
    "# sort alphabetically\n",
    "\n",
    "for i in sorted(adj_noun):\n",
    "    print(i)"
   ]
  },
  {
   "cell_type": "code",
   "execution_count": 10,
   "metadata": {},
   "outputs": [
    {
     "name": "stdout",
     "output_type": "stream",
     "text": [
      "('цілий', 7)\n",
      "('окремий', 3)\n",
      "('екстериторіальний', 2)\n",
      "('утрачений', 1)\n",
      "('другий', 1)\n",
      "('оригінальний', 1)\n",
      "('казковий', 1)\n",
      "('нереальний', 1)\n",
      "('видимий', 1)\n",
      "('забутий', 1)\n",
      "('пташиний', 1)\n",
      "('невідомий', 1)\n",
      "('навколишній', 1)\n",
      "('напівказковий', 1)\n",
      "('зовнішній', 1)\n",
      "('тваринний', 1)\n",
      "('смердючий', 1)\n"
     ]
    }
   ],
   "source": [
    "# get most frequent adjectives\n",
    "\n",
    "from collections import Counter\n",
    "adj = Counter()\n",
    "for i in range(1, len(corpus)):\n",
    "    word, lemma, tag = corpus[i]\n",
    "    prev_word, prev_lemma, prev_tag = corpus[i-1]\n",
    "    if lemma == \"світ\" and prev_tag == \"ADJF\":\n",
    "        adj[prev_lemma] += 1\n",
    "for i in adj.most_common():\n",
    "    print(i)"
   ]
  },
  {
   "cell_type": "code",
   "execution_count": null,
   "metadata": {},
   "outputs": [],
   "source": []
  }
 ],
 "metadata": {
  "kernelspec": {
   "display_name": "Python 3",
   "language": "python",
   "name": "python3"
  },
  "language_info": {
   "codemirror_mode": {
    "name": "ipython",
    "version": 3
   },
   "file_extension": ".py",
   "mimetype": "text/x-python",
   "name": "python",
   "nbconvert_exporter": "python",
   "pygments_lexer": "ipython3",
   "version": "3.6.0"
  }
 },
 "nbformat": 4,
 "nbformat_minor": 2
}
